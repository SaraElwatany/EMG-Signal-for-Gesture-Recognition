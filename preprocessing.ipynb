{
 "cells": [
  {
   "cell_type": "code",
   "execution_count": null,
   "metadata": {},
   "outputs": [],
   "source": [
    "import matplotlib.pyplot as plt\n",
    "from scipy import signal\n",
    "import numpy as np\n",
    "import pandas as pd\n",
    "\n",
    "\n",
    "\n",
    "\n",
    "\n",
    "def notchFilter(x, samplerate, plot=False):\n",
    "    x = x - np.mean(x)              # Normalize the data\n",
    "\n",
    "    high_cutoff_notch = 59 / (samplerate / 2)\n",
    "    low_cutoff_notch = 61 / (samplerate / 2)\n",
    "\n",
    "    [b, a] = signal.butter(4, [high_cutoff_notch, low_cutoff_notch], btype='stop')\n",
    "\n",
    "    x_filt = signal.filtfilt(b, a, x.T)\n",
    "\n",
    "    if plot:\n",
    "        time = np.arange(0, len(x) / samplerate, 1 / samplerate)\n",
    "        plt.plot(time, x)\n",
    "        plt.plot(time, x_filt.T, 'k')\n",
    "        plt.autoscale(tight=True)\n",
    "        plt.xlabel('Time (msecs)')\n",
    "        plt.ylabel('Amplitude (mV)')\n",
    "        plt.show()\n",
    "\n",
    "    return x_filt\n",
    "\n",
    "\n",
    "\n",
    "\n",
    "def bandPassFilter(x, low_f, high_f, samplerate, plot=False):\n",
    "    # x = x - np.mean(x)\n",
    "    \n",
    "    low_cutoff_bp = low_f / (samplerate / 2)\n",
    "    high_cutoff_bp = high_f / (samplerate / 2)\n",
    "\n",
    "    [b, a] = signal.butter(5, [low_cutoff_bp, high_cutoff_bp], btype='bandpass')\n",
    "\n",
    "    x_filt = signal.filtfilt(b, a, x)\n",
    "\n",
    "    if plot:\n",
    "        time = np.arange(0, len(x) / samplerate, 1 / samplerate)\n",
    "        plt.plot(time, x)\n",
    "        plt.plot(time, x_filt, 'k')\n",
    "        plt.autoscale(tight=True)\n",
    "        plt.xlabel('Time (msecs)')\n",
    "        plt.ylabel('Amplitude (mV)')\n",
    "        plt.show()\n",
    "\n",
    "    return x_filt\n",
    "\n",
    "\n",
    "\n",
    "\n",
    "def plot_signal(x, samplerate, chname):\n",
    "    time = np.arange(0, len(x) / samplerate, 1 / samplerate)   # Get the total time\n",
    "    plt.plot(time, x)\n",
    "    plt.autoscale(tight=True)\n",
    "    plt.xlabel('Time (msecs)')\n",
    "    plt.ylabel('Amplitude (mV)')\n",
    "    plt.title(chname)\n",
    "    plt.show()\n",
    "\n",
    "\n",
    "\n"
   ]
  },
  {
   "cell_type": "code",
   "execution_count": null,
   "metadata": {},
   "outputs": [],
   "source": [
    "# Load dataset\n",
    "signal_path = 'C:/Users/saraa/OneDrive/Desktop/CDSS - Final Project/data/csv files/merged_files.csv'\n",
    "emg_signal = pd.read_csv(signal_path, engine=\"python\").drop(['time', 'class', 'label'], axis=1).values "
   ]
  },
  {
   "cell_type": "code",
   "execution_count": null,
   "metadata": {},
   "outputs": [],
   "source": [
    "# Plot raw sEMG signal\n",
    "title = 'Raw Signal'\n",
    "sampling_frequency = 3e2\n",
    "#plot_signal(emg_signal, sampling_frequency, title)\n",
    "print(emg_signal)"
   ]
  },
  {
   "cell_type": "code",
   "execution_count": null,
   "metadata": {},
   "outputs": [],
   "source": [
    "# EMG Signal Preprocessing\n",
    "emg_signal = emg_signal.reshape((emg_signal.size,))\n",
    "filtered_signal = notchFilter(emg_signal, sampling_frequency, False)                               \n",
    "#filtered_signal = bandPassFilter(filtered_signal, 10, 500, sampling_frequency, False)     # Take the output of notch filter"
   ]
  }
 ],
 "metadata": {
  "language_info": {
   "name": "python"
  },
  "orig_nbformat": 4
 },
 "nbformat": 4,
 "nbformat_minor": 2
}
